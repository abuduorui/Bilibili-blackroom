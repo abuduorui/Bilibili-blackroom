{
 "cells": [
  {
   "cell_type": "markdown",
   "metadata": {},
   "source": [
    "# B站小黑屋是一种异步加载的网页结构，打开网页不会显示所有内容，当向下滚动时，会再加载新内容"
   ]
  },
  {
   "cell_type": "markdown",
   "metadata": {},
   "source": [
    "##################################################################################<br>\n",
    "<font color=black size=5 face=\"黑体\">整体思路就是分为两步：</font>  \n",
    "<font color=black size=4 face=\"黑体\">（1）完全加载页面</font>  <br>\n",
    "<font color=black size=4 face=\"黑体\">（2）爬取内容</font>  <br>\n",
    "##################################################################################<br>"
   ]
  },
  {
   "cell_type": "markdown",
   "metadata": {},
   "source": [
    "<font color=#0099ff size=5 face=\"黑体\">经过观察，每个黑评的xpath有规律可循 </font>  \n",
    "\n",
    "/html/body/div[3]/div/div/div/div[2]/div[2]/<font color=#0099ff >div[1]/div[1]</font>/a[2]<br>\n",
    "/html/body/div[3]/div/div/div/div[2]/div[2]/<font color=#0099ff >div[2]/div[1]</font>/a[2]<br>\n",
    "/html/body/div[3]/div/div/div/div[2]/div[2]/<font color=#0099ff >div[3]/div[1]</font>/a[2]<br>\n",
    "由上到下依次是：第一列第一行数据，第二列第一行数据，第三列第一行数据<br>\n",
    "每次加载最多4行（大约）<br>"
   ]
  },
  {
   "cell_type": "markdown",
   "metadata": {},
   "source": [
    "其中，针对<font color=red >恶意投稿</font>和<font color=red >弹幕</font>的处理结果格式不一样，需要特别处理"
   ]
  },
  {
   "cell_type": "markdown",
   "metadata": {},
   "source": [
    "<font color=grey size=5 face=\"黑体\">V1.0   不处理数据，仅爬取，格式混乱，需要后期处理</font>  "
   ]
  },
  {
   "cell_type": "code",
   "execution_count": 1,
   "metadata": {},
   "outputs": [],
   "source": [
    "from selenium import webdriver\n",
    "import pandas as pd\n",
    "import re\n",
    "import time"
   ]
  },
  {
   "cell_type": "code",
   "execution_count": 4,
   "metadata": {},
   "outputs": [],
   "source": [
    "#加载网页\n",
    "def web_load(driver, count):\n",
    "    for i in range(0,count):\n",
    "        #print(i)\n",
    "        js = \"window.scrollTo(0,document.body.scrollHeight)\"\n",
    "        driver.execute_script(js)\n",
    "        time.sleep(5)"
   ]
  },
  {
   "cell_type": "code",
   "execution_count": 5,
   "metadata": {},
   "outputs": [],
   "source": [
    "#遍历行列\n",
    "def get_div_content(driver, count, df):\n",
    "    row = count * 4 + 1\n",
    "    col = 3 + 1\n",
    "    i = 0\n",
    "    #xpath\n",
    "    str1 = \"\"\"/html/body/div[3]/div/div/div/div[2]/div[2]/div[\"\"\"\n",
    "    str2 = \"\"\"]/div[\"\"\"\n",
    "    str3 = \"\"\"]/a[2]\"\"\"\n",
    "    \n",
    "    for r in range(1,row):\n",
    "        for c in range(1, col):\n",
    "            try:\n",
    "                s = driver.find_element_by_xpath(str1 + str(c)+ str2 + str(r) + str3).text\n",
    "            except:\n",
    "                continue\n",
    "            else:\n",
    "                #print(r,c)\n",
    "                df.loc[i] = s\n",
    "                i += 1\n",
    "                 \n",
    "    return df"
   ]
  },
  {
   "cell_type": "code",
   "execution_count": 6,
   "metadata": {
    "scrolled": true
   },
   "outputs": [],
   "source": [
    "#打开火狐浏览器\n",
    "driver = webdriver.Firefox(executable_path = 'geckodriver')\n",
    "#指定网址\n",
    "url = \"https://www.bilibili.com/blackroom/ban\"\n",
    "#打开网页\n",
    "driver.get(url)\n",
    "time.sleep(4)\n",
    "#指定滚动次数or加载次数\n",
    "count = 2  \n",
    "web_load(driver, count)\n",
    "df = pd.DataFrame(columns=['s'])\n",
    "new_df = get_div_content(driver, count, df)"
   ]
  },
  {
   "cell_type": "code",
   "execution_count": 7,
   "metadata": {
    "scrolled": true
   },
   "outputs": [
    {
     "data": {
      "text/html": [
       "<div>\n",
       "<style scoped>\n",
       "    .dataframe tbody tr th:only-of-type {\n",
       "        vertical-align: middle;\n",
       "    }\n",
       "\n",
       "    .dataframe tbody tr th {\n",
       "        vertical-align: top;\n",
       "    }\n",
       "\n",
       "    .dataframe thead th {\n",
       "        text-align: right;\n",
       "    }\n",
       "</style>\n",
       "<table border=\"1\" class=\"dataframe\">\n",
       "  <thead>\n",
       "    <tr style=\"text-align: right;\">\n",
       "      <th></th>\n",
       "      <th>s</th>\n",
       "    </tr>\n",
       "  </thead>\n",
       "  <tbody>\n",
       "    <tr>\n",
       "      <th>0</th>\n",
       "      <td>我就是性格如此\\n在评论中发布引战言论封禁 7 天\\n不投币的高考必定发挥失常，大学生必定考...</td>\n",
       "    </tr>\n",
       "    <tr>\n",
       "      <th>1</th>\n",
       "      <td>飘零的蒲草\\n在评论中发布人身攻击言论封禁 30 天\\n举报我的没有亲妈。看不惯吗，我就是要...</td>\n",
       "    </tr>\n",
       "    <tr>\n",
       "      <th>2</th>\n",
       "      <td>福煦刚刚\\n在评论中发布引战言论封禁 7 天\\n真搞不懂看直播就看直播有必要刷礼物吗杀b们\\...</td>\n",
       "    </tr>\n",
       "    <tr>\n",
       "      <th>3</th>\n",
       "      <td>P90暴力RB\\n在评论中发布引战言论封禁 7 天\\n我真服了，一个几十秒就能说完的事让这个...</td>\n",
       "    </tr>\n",
       "    <tr>\n",
       "      <th>4</th>\n",
       "      <td>灼魂双面吨\\n在评论中发布垃圾广告信息永久封禁\\n陌生人 早点睡觉吧 真的睡不着的话 DIA...</td>\n",
       "    </tr>\n",
       "  </tbody>\n",
       "</table>\n",
       "</div>"
      ],
      "text/plain": [
       "                                                   s\n",
       "0  我就是性格如此\\n在评论中发布引战言论封禁 7 天\\n不投币的高考必定发挥失常，大学生必定考...\n",
       "1  飘零的蒲草\\n在评论中发布人身攻击言论封禁 30 天\\n举报我的没有亲妈。看不惯吗，我就是要...\n",
       "2  福煦刚刚\\n在评论中发布引战言论封禁 7 天\\n真搞不懂看直播就看直播有必要刷礼物吗杀b们\\...\n",
       "3  P90暴力RB\\n在评论中发布引战言论封禁 7 天\\n我真服了，一个几十秒就能说完的事让这个...\n",
       "4  灼魂双面吨\\n在评论中发布垃圾广告信息永久封禁\\n陌生人 早点睡觉吧 真的睡不着的话 DIA..."
      ]
     },
     "execution_count": 7,
     "metadata": {},
     "output_type": "execute_result"
    }
   ],
   "source": [
    "new_df.head()"
   ]
  },
  {
   "cell_type": "code",
   "execution_count": 13,
   "metadata": {},
   "outputs": [],
   "source": [
    "new_df.to_excel('B站小黑屋评论V1.0.xlsx')"
   ]
  },
  {
   "cell_type": "code",
   "execution_count": null,
   "metadata": {},
   "outputs": [],
   "source": []
  }
 ],
 "metadata": {
  "kernelspec": {
   "display_name": "Python 3",
   "language": "python",
   "name": "python3"
  },
  "language_info": {
   "codemirror_mode": {
    "name": "ipython",
    "version": 3
   },
   "file_extension": ".py",
   "mimetype": "text/x-python",
   "name": "python",
   "nbconvert_exporter": "python",
   "pygments_lexer": "ipython3",
   "version": "3.7.0"
  }
 },
 "nbformat": 4,
 "nbformat_minor": 2
}
