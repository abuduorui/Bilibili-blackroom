{
 "cells": [
  {
   "cell_type": "markdown",
   "metadata": {},
   "source": [
    "# B站小黑屋是一种异步加载的网页结构，打开网页不会显示所有内容，当向下滚动时，会再加载新内容"
   ]
  },
  {
   "cell_type": "markdown",
   "metadata": {},
   "source": [
    "##################################################################################<br>\n",
    "<font color=black size=5 face=\"黑体\">整体思路就是分为两步：</font>  \n",
    "<font color=black size=4 face=\"黑体\">（1）完全加载页面</font>  <br>\n",
    "<font color=black size=4 face=\"黑体\">（2）爬取内容</font>  <br>\n",
    "##################################################################################<br>"
   ]
  },
  {
   "cell_type": "markdown",
   "metadata": {},
   "source": [
    "<font color=#0099ff size=5 face=\"黑体\">经过观察，每个黑评的xpath有规律可循 </font>  \n",
    "\n",
    "/html/body/div[3]/div/div/div/div[2]/div[2]/<font color=#0099ff >div[1]/div[1]</font>/a[2]<br>\n",
    "/html/body/div[3]/div/div/div/div[2]/div[2]/<font color=#0099ff >div[2]/div[1]</font>/a[2]<br>\n",
    "/html/body/div[3]/div/div/div/div[2]/div[2]/<font color=#0099ff >div[3]/div[1]</font>/a[2]<br>\n",
    "由上到下依次是：第一列第一行数据，第二列第一行数据，第三列第一行数据<br>\n",
    "每次加载最多4行（大约）<br>"
   ]
  },
  {
   "cell_type": "markdown",
   "metadata": {},
   "source": [
    "其中，针对<font color=red >恶意投稿</font>和<font color=red >弹幕</font>的处理结果格式不一样，需要特别处理"
   ]
  },
  {
   "cell_type": "markdown",
   "metadata": {},
   "source": [
    "<font color=grey size=5 face=\"黑体\">V1.0   不处理数据，仅爬取，格式混乱，需要后期处理（目前，滚动30次没问题）</font>  <br>\n",
    "<font color=grey size=5 face=\"黑体\">V2.0   尝试处理数据（目前，滚动30次没问题）</font>  "
   ]
  },
  {
   "cell_type": "code",
   "execution_count": 5,
   "metadata": {},
   "outputs": [],
   "source": [
    "from selenium import webdriver\n",
    "import pandas as pd\n",
    "import re\n",
    "import time"
   ]
  },
  {
   "cell_type": "code",
   "execution_count": 9,
   "metadata": {},
   "outputs": [],
   "source": [
    "#加载网页\n",
    "def web_load(driver, count):\n",
    "    for i in range(0,count):\n",
    "        #print(i)\n",
    "        js = \"window.scrollTo(0,document.body.scrollHeight)\"\n",
    "        driver.execute_script(js)\n",
    "        time.sleep(5)"
   ]
  },
  {
   "cell_type": "code",
   "execution_count": 10,
   "metadata": {},
   "outputs": [],
   "source": [
    "#遍历行列\n",
    "def get_div_content(driver, count, df):\n",
    "    row = count * 4 + 1\n",
    "    col = 3 + 1\n",
    "    i = 0\n",
    "    #xpath\n",
    "    str1 = \"\"\"/html/body/div[3]/div/div/div/div[2]/div[2]/div[\"\"\"\n",
    "    str2 = \"\"\"]/div[\"\"\"\n",
    "    str3 = \"\"\"]/a[2]\"\"\"\n",
    "    \n",
    "    for r in range(1,row):\n",
    "        for c in range(1, col):\n",
    "            try:\n",
    "                s = driver.find_element_by_xpath(str1 + str(c)+ str2 + str(r) + str3).text\n",
    "            except:\n",
    "                continue\n",
    "            else:\n",
    "                #print(c,r)\n",
    "                c_id = re.search(r\"(.*)\\n\", s).group(1)\n",
    "                result = re.search(r\"\\n(.*)\\n\", s).group(1)\n",
    "                if \"评论\" not in result and \"弹幕\" not in result:\n",
    "                    content = 'NULL'\n",
    "                    st = s.replace(\"\\n\", \" \")\n",
    "                    tips = re.search(r\"(封禁[0-9]*)(.*)( [0-9]*条评论)\", st).group(2)\n",
    "                elif \"批注\" not in s:\n",
    "                    st = s.replace(\"\\n\", \" \")\n",
    "                    content = re.search(r\"(封禁[0-9]*)(.*)( [0-9]*条评论)\", st).group(2)\n",
    "                    tips = 'NULL'\n",
    "                else:\n",
    "                    st = s.replace(\"\\n\", \" \")\n",
    "                    content = re.search(r\"(封禁[0-9]*)(.*)(批注)\", st).group(2)\n",
    "                    #content = re.search(r\"\\n(.*)\\n\\n\", s).group(1)\n",
    "                    #tips = s.split(\"\\n\\n\")[1].replace('\\n', ' ')\n",
    "                    tips = re.search(r\"(批注：)(.*)([0-9]*条评论)\", st).group(2)\n",
    "                review_c = re.search(r\"\\n(.*)条评论\", s).group(1)\n",
    "                df.loc[i] = [c_id, result, content, tips, review_c]\n",
    "                i += 1\n",
    "                 \n",
    "    return df"
   ]
  },
  {
   "cell_type": "code",
   "execution_count": 8,
   "metadata": {
    "scrolled": true
   },
   "outputs": [
    {
     "name": "stdout",
     "output_type": "stream",
     "text": [
      "0\n",
      "1\n"
     ]
    }
   ],
   "source": [
    "#打开火狐浏览器\n",
    "driver = webdriver.Firefox(executable_path = 'geckodriver')\n",
    "#指定网址\n",
    "url = \"https://www.bilibili.com/blackroom/ban\"\n",
    "#打开网页\n",
    "driver.get(url)\n",
    "time.sleep(4)\n",
    "#指定滚动次数or加载次数\n",
    "count = 2  \n",
    "web_load(driver, count)\n",
    "df = pd.DataFrame(columns=['id', 'result', 'review', 'tip', 'review_count'])\n",
    "new_df = get_div_content(driver, count, df)"
   ]
  },
  {
   "cell_type": "code",
   "execution_count": 12,
   "metadata": {},
   "outputs": [
    {
     "data": {
      "text/html": [
       "<div>\n",
       "<style scoped>\n",
       "    .dataframe tbody tr th:only-of-type {\n",
       "        vertical-align: middle;\n",
       "    }\n",
       "\n",
       "    .dataframe tbody tr th {\n",
       "        vertical-align: top;\n",
       "    }\n",
       "\n",
       "    .dataframe thead th {\n",
       "        text-align: right;\n",
       "    }\n",
       "</style>\n",
       "<table border=\"1\" class=\"dataframe\">\n",
       "  <thead>\n",
       "    <tr style=\"text-align: right;\">\n",
       "      <th></th>\n",
       "      <th>id</th>\n",
       "      <th>result</th>\n",
       "      <th>review</th>\n",
       "      <th>tip</th>\n",
       "      <th>review_count</th>\n",
       "    </tr>\n",
       "  </thead>\n",
       "  <tbody>\n",
       "    <tr>\n",
       "      <th>0</th>\n",
       "      <td>我就是性格如此</td>\n",
       "      <td>在评论中发布引战言论封禁 7 天</td>\n",
       "      <td>7 天 不投币的高考必定发挥失常，大学生必定考试挂科，一辈子单身奥(°∀°)ﾉ *****</td>\n",
       "      <td>数载悠悠苦耕，似长征，语数英政史地、理化生。 十年梦，遭恶讽，夜雨冷。 请君黑屋七日、解心...</td>\n",
       "      <td>179</td>\n",
       "    </tr>\n",
       "    <tr>\n",
       "      <th>1</th>\n",
       "      <td>飘零的蒲草</td>\n",
       "      <td>在评论中发布人身攻击言论封禁 30 天</td>\n",
       "      <td>30 天 举报我的没有亲妈。看不惯吗，我就是要b友+关注粉丝然后私聊发电影资源  批注： ...</td>\n",
       "      <td>禁止发布垃圾广告信息 禁止发布人身攻击内容 想不到吧？ 这是批注巡逻发现的 真当批注不上B...</td>\n",
       "      <td>151</td>\n",
       "    </tr>\n",
       "    <tr>\n",
       "      <th>2</th>\n",
       "      <td>福煦刚刚</td>\n",
       "      <td>在评论中发布引战言论封禁 7 天</td>\n",
       "      <td>7 天 真搞不懂看直播就看直播有必要刷礼物吗杀b们  批注： 月曜晚八，鸽子回笼，礼物齐刷...</td>\n",
       "      <td>月曜晚八，鸽子回笼，礼物齐刷。 寒轻春暖，葳蕤灯火，坐地吃瓜。 知君巧手生花，评论处、随意...</td>\n",
       "      <td>198</td>\n",
       "    </tr>\n",
       "    <tr>\n",
       "      <th>3</th>\n",
       "      <td>P90暴力RB</td>\n",
       "      <td>在评论中发布引战言论封禁 7 天</td>\n",
       "      <td>7 天 我真服了，一个几十秒就能说完的事让这个up磨叽了这么长时间（我就引战了怎么着？） ...</td>\n",
       "      <td>画蛇何须添足？寻衅几无益处。 故犯闯黑屋，星夜特作批注。 难恕！难恕！ 莽夫绝非出路。  ...</td>\n",
       "      <td>217</td>\n",
       "    </tr>\n",
       "    <tr>\n",
       "      <th>4</th>\n",
       "      <td>灼魂双面吨</td>\n",
       "      <td>在评论中发布垃圾广告信息永久封禁</td>\n",
       "      <td>陌生人 早点睡觉吧 真的睡不着的话 DIAN KAI WO</td>\n",
       "      <td>挂一个大坏蛋，借楼宣传一下发现这类违规时，具体的应对办法～ 请勿轻信此类垃圾广告，其宣传的各...</td>\n",
       "      <td>173</td>\n",
       "    </tr>\n",
       "  </tbody>\n",
       "</table>\n",
       "</div>"
      ],
      "text/plain": [
       "        id               result  \\\n",
       "0  我就是性格如此     在评论中发布引战言论封禁 7 天   \n",
       "1    飘零的蒲草  在评论中发布人身攻击言论封禁 30 天   \n",
       "2     福煦刚刚     在评论中发布引战言论封禁 7 天   \n",
       "3  P90暴力RB     在评论中发布引战言论封禁 7 天   \n",
       "4    灼魂双面吨     在评论中发布垃圾广告信息永久封禁   \n",
       "\n",
       "                                              review  \\\n",
       "0    7 天 不投币的高考必定发挥失常，大学生必定考试挂科，一辈子单身奥(°∀°)ﾉ *****     \n",
       "1   30 天 举报我的没有亲妈。看不惯吗，我就是要b友+关注粉丝然后私聊发电影资源  批注： ...   \n",
       "2   7 天 真搞不懂看直播就看直播有必要刷礼物吗杀b们  批注： 月曜晚八，鸽子回笼，礼物齐刷...   \n",
       "3   7 天 我真服了，一个几十秒就能说完的事让这个up磨叽了这么长时间（我就引战了怎么着？） ...   \n",
       "4                    陌生人 早点睡觉吧 真的睡不着的话 DIAN KAI WO     \n",
       "\n",
       "                                                 tip review_count  \n",
       "0   数载悠悠苦耕，似长征，语数英政史地、理化生。 十年梦，遭恶讽，夜雨冷。 请君黑屋七日、解心...          179  \n",
       "1   禁止发布垃圾广告信息 禁止发布人身攻击内容 想不到吧？ 这是批注巡逻发现的 真当批注不上B...          151  \n",
       "2   月曜晚八，鸽子回笼，礼物齐刷。 寒轻春暖，葳蕤灯火，坐地吃瓜。 知君巧手生花，评论处、随意...          198  \n",
       "3   画蛇何须添足？寻衅几无益处。 故犯闯黑屋，星夜特作批注。 难恕！难恕！ 莽夫绝非出路。  ...          217  \n",
       "4  挂一个大坏蛋，借楼宣传一下发现这类违规时，具体的应对办法～ 请勿轻信此类垃圾广告，其宣传的各...          173  "
      ]
     },
     "execution_count": 12,
     "metadata": {},
     "output_type": "execute_result"
    }
   ],
   "source": [
    "new_df.head()"
   ]
  },
  {
   "cell_type": "code",
   "execution_count": 317,
   "metadata": {},
   "outputs": [],
   "source": [
    "new_df.to_excel('B站小黑屋评论V2.0.xlsx')"
   ]
  },
  {
   "cell_type": "markdown",
   "metadata": {},
   "source": [
    "<font color=red size=7 face=\"黑体\">end</font>"
   ]
  },
  {
   "cell_type": "code",
   "execution_count": null,
   "metadata": {},
   "outputs": [],
   "source": []
  },
  {
   "cell_type": "code",
   "execution_count": null,
   "metadata": {},
   "outputs": [],
   "source": []
  }
 ],
 "metadata": {
  "kernelspec": {
   "display_name": "Python 3",
   "language": "python",
   "name": "python3"
  },
  "language_info": {
   "codemirror_mode": {
    "name": "ipython",
    "version": 3
   },
   "file_extension": ".py",
   "mimetype": "text/x-python",
   "name": "python",
   "nbconvert_exporter": "python",
   "pygments_lexer": "ipython3",
   "version": "3.7.0"
  }
 },
 "nbformat": 4,
 "nbformat_minor": 2
}
